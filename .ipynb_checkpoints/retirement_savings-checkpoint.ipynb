{
 "cells": [
  {
   "cell_type": "markdown",
   "metadata": {},
   "source": [
    "# Retirement Savings Calculator\n",
    "Derives the potential yield of invested capital for retirement by calculating the compound interest of an initial deposit plus the future value of an annuity (immediate or due) based on annual contributions over a certain period, and given an expected annual return.\n",
    "\n",
    "* Formulas: https://math.stackexchange.com/questions/1698578/compound-interest-formula-adding-annual-contributions"
   ]
  },
  {
   "cell_type": "code",
   "execution_count": 125,
   "metadata": {},
   "outputs": [],
   "source": [
    "%matplotlib inline\n",
    "import pandas as pd\n",
    "import seaborn as sns\n",
    "import matplotlib.pyplot as plt\n",
    "sns.set(style=\"whitegrid\")"
   ]
  },
  {
   "cell_type": "code",
   "execution_count": 126,
   "metadata": {},
   "outputs": [],
   "source": [
    "def retirement_savings(p, c, r, n, annuity):\n",
    "    '''Calculates the potential yield of invested capital for retirement\n",
    "    \n",
    "    Parameters:\n",
    "    Principal: p\n",
    "    Annual contribution: c\n",
    "    Interest rate: r\n",
    "    Annuity immediate (end of period contributions) or annuity due (start of period contributions)\n",
    "    '''\n",
    "    \n",
    "    initial_deposit = p * (1 + r) ** n\n",
    "    \n",
    "    if annuity == 'immediate':\n",
    "        annuity = c * (((1 + r)**n - 1) / r) \n",
    "        \n",
    "    elif annuity == 'due':\n",
    "        annuity = c * (((1 + r)**n - 1) / r) * (1 + r)\n",
    "        \n",
    "    future_value = initial_deposit + annuity\n",
    "    \n",
    "    return float(f'{future_value:.2f}')\n",
    "    "
   ]
  },
  {
   "cell_type": "code",
   "execution_count": 127,
   "metadata": {},
   "outputs": [
    {
     "data": {
      "text/plain": [
       "223195.57"
      ]
     },
     "execution_count": 127,
     "metadata": {},
     "output_type": "execute_result"
    }
   ],
   "source": [
    "# Example: Initial deposit 1K, start-of period annual contributions of 1K \n",
    "# at a 7% annual return over 20 years\n",
    "retirement_savings(1000, 5000, .07, 20, annuity='due')"
   ]
  },
  {
   "cell_type": "code",
   "execution_count": 128,
   "metadata": {},
   "outputs": [],
   "source": [
    "def retirement_savings_report(p, c, r, n, annuity_type):\n",
    "    '''Outputs the annual contributions, interest and balance for a given retirement savings plan'''\n",
    "    years = []\n",
    "    contributions = []\n",
    "    cumul_contributions = []\n",
    "    interest = []\n",
    "    balance = []\n",
    "    \n",
    "    for year in range(n+1):\n",
    "        # Append the balance and contribution for this year\n",
    "        years.append(year)\n",
    "        balance.append(retirement_savings(p, c, r, year, annuity=annuity_type))\n",
    "        contributions.append(c)\n",
    "        \n",
    "        if year > 0:\n",
    "            # Calculate the interest by subracting \n",
    "            # this year's balance from last year's and the annual contribution\n",
    "            interest.append(balance[year] - balance[year - 1] - c)\n",
    "            \n",
    "            # Calculate the cumulative annual contributions\n",
    "            cumul_contributions.append(cumul_contributions[year - 1] + c)\n",
    "        else:\n",
    "            interest.append(0)\n",
    "            cumul_contributions.append(0)\n",
    "    \n",
    "    # Set up the report\n",
    "    report = {\n",
    "        'Year': years,\n",
    "        'Annual Contribution': contributions,\n",
    "        'Cumulative Contributions': cumul_contributions,\n",
    "        'Interest': interest,\n",
    "        'Balance': balance\n",
    "    }\n",
    "    \n",
    "    return pd.DataFrame.from_dict(report)"
   ]
  },
  {
   "cell_type": "code",
   "execution_count": 129,
   "metadata": {},
   "outputs": [
    {
     "data": {
      "text/html": [
       "<div>\n",
       "<style scoped>\n",
       "    .dataframe tbody tr th:only-of-type {\n",
       "        vertical-align: middle;\n",
       "    }\n",
       "\n",
       "    .dataframe tbody tr th {\n",
       "        vertical-align: top;\n",
       "    }\n",
       "\n",
       "    .dataframe thead th {\n",
       "        text-align: right;\n",
       "    }\n",
       "</style>\n",
       "<table border=\"1\" class=\"dataframe\">\n",
       "  <thead>\n",
       "    <tr style=\"text-align: right;\">\n",
       "      <th></th>\n",
       "      <th>Year</th>\n",
       "      <th>Annual Contribution</th>\n",
       "      <th>Cumulative Contributions</th>\n",
       "      <th>Interest</th>\n",
       "      <th>Balance</th>\n",
       "    </tr>\n",
       "  </thead>\n",
       "  <tbody>\n",
       "    <tr>\n",
       "      <th>16</th>\n",
       "      <td>16</td>\n",
       "      <td>5000</td>\n",
       "      <td>80000</td>\n",
       "      <td>9953.95</td>\n",
       "      <td>152153.25</td>\n",
       "    </tr>\n",
       "    <tr>\n",
       "      <th>17</th>\n",
       "      <td>17</td>\n",
       "      <td>5000</td>\n",
       "      <td>85000</td>\n",
       "      <td>11000.73</td>\n",
       "      <td>168153.98</td>\n",
       "    </tr>\n",
       "    <tr>\n",
       "      <th>18</th>\n",
       "      <td>18</td>\n",
       "      <td>5000</td>\n",
       "      <td>90000</td>\n",
       "      <td>12120.78</td>\n",
       "      <td>185274.76</td>\n",
       "    </tr>\n",
       "    <tr>\n",
       "      <th>19</th>\n",
       "      <td>19</td>\n",
       "      <td>5000</td>\n",
       "      <td>95000</td>\n",
       "      <td>13319.23</td>\n",
       "      <td>203593.99</td>\n",
       "    </tr>\n",
       "    <tr>\n",
       "      <th>20</th>\n",
       "      <td>20</td>\n",
       "      <td>5000</td>\n",
       "      <td>100000</td>\n",
       "      <td>14601.58</td>\n",
       "      <td>223195.57</td>\n",
       "    </tr>\n",
       "  </tbody>\n",
       "</table>\n",
       "</div>"
      ],
      "text/plain": [
       "    Year  Annual Contribution  Cumulative Contributions  Interest    Balance\n",
       "16    16                 5000                     80000   9953.95  152153.25\n",
       "17    17                 5000                     85000  11000.73  168153.98\n",
       "18    18                 5000                     90000  12120.78  185274.76\n",
       "19    19                 5000                     95000  13319.23  203593.99\n",
       "20    20                 5000                    100000  14601.58  223195.57"
      ]
     },
     "execution_count": 129,
     "metadata": {},
     "output_type": "execute_result"
    }
   ],
   "source": [
    "# Output the report for the example given above\n",
    "report = retirement_savings_report(1000, 5000, .07, 20, annuity_type='due')\n",
    "report.tail()"
   ]
  },
  {
   "cell_type": "code",
   "execution_count": 130,
   "metadata": {},
   "outputs": [
    {
     "data": {
      "image/png": "[encoded data removed]",
      "text/plain": [
       "<Figure size 432x288 with 1 Axes>"
      ]
     },
     "metadata": {},
     "output_type": "display_data"
    }
   ],
   "source": [
    "sns.barplot(x='Year', y='Balance', data=report, color='cyan', label='Balance');\n",
    "sns.lineplot(x='Year', y='Cumulative Contributions', data=report, color='blue', \n",
    "             label='Cumul. Contributions')\n",
    "\n",
    "plt.ylabel('EUR')\n",
    "plt.legend();"
   ]
  },
  {
   "cell_type": "markdown",
   "metadata": {},
   "source": [
    "To do:\n",
    "* Monte carlo simulation to see how this behaves with varying annual return rates\n",
    "* Better report and visualization\n",
    "* Interactive calculator"
   ]
  },
  {
   "cell_type": "code",
   "execution_count": null,
   "metadata": {},
   "outputs": [],
   "source": []
  }
 ],
 "metadata": {
  "kernelspec": {
   "display_name": "Python 3",
   "language": "python",
   "name": "python3"
  },
  "language_info": {
   "codemirror_mode": {
    "name": "ipython",
    "version": 3
   },
   "file_extension": ".py",
   "mimetype": "text/x-python",
   "name": "python",
   "nbconvert_exporter": "python",
   "pygments_lexer": "ipython3",
   "version": "3.6.5"
  }
 },
 "nbformat": 4,
 "nbformat_minor": 2
}
